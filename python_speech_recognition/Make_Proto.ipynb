{
 "cells": [
  {
   "cell_type": "code",
   "execution_count": 1,
   "id": "dcbc1ca7",
   "metadata": {},
   "outputs": [
    {
     "ename": "ModuleNotFoundError",
     "evalue": "No module named 'hmmfunc'",
     "output_type": "error",
     "traceback": [
      "\u001b[1;31m---------------------------------------------------------------------------\u001b[0m",
      "\u001b[1;31mModuleNotFoundError\u001b[0m                       Traceback (most recent call last)",
      "Cell \u001b[1;32mIn[1], line 1\u001b[0m\n\u001b[1;32m----> 1\u001b[0m \u001b[38;5;28;01mfrom\u001b[39;00m \u001b[38;5;21;01mhmmfunc\u001b[39;00m \u001b[38;5;28;01mimport\u001b[39;00m MonoPhoneHMM\n\u001b[0;32m      3\u001b[0m \u001b[38;5;28;01mimport\u001b[39;00m \u001b[38;5;21;01mos\u001b[39;00m\n\u001b[0;32m      5\u001b[0m \u001b[38;5;28;01mif\u001b[39;00m \u001b[38;5;18m__name__\u001b[39m \u001b[38;5;241m==\u001b[39m\u001b[38;5;124m'\u001b[39m\u001b[38;5;124m__main__\u001b[39m\u001b[38;5;124m'\u001b[39m:\n",
      "\u001b[1;31mModuleNotFoundError\u001b[0m: No module named 'hmmfunc'"
     ]
    }
   ],
   "source": [
    "from hmmfunc import MonoPhoneHMM\n",
    "\n",
    "import os\n",
    "\n",
    "if __name__ =='__main__':\n",
    "    #음소 목록\n",
    "    phone_list_file = './exp/data/train_small/phone_list'\n",
    "    # 각 음소의 HMM 상태수\n",
    "    num_states = 3\n",
    "    #입력특징값 차원 수\n",
    "    #여기서는 MFCC를 사용하므로\n",
    "    # MFCC 차원 수를 입력한다\n",
    "    num_dims = 13\n",
    "    # 자기 루프 확률 초기값\n",
    "    prob_loop = 0.7\n",
    "    # 출력 폴더\n",
    "    out_dir = './exp/model_%dstate1mix' %(num_states)\n",
    "    \n",
    "    os.makedirs(out_dir, exist_ok=True)\n",
    "    #음소 목록 파일 열어 .phone_list에 저장\n",
    "    phone_list = []\n",
    "    with open(phone_list_file, mode='r') as f:\n",
    "        for line in f:\n",
    "            # 음소 목폭 파일에서 음소 기록\n",
    "            phone = line.split()[0]\n",
    "            #음소 목록 끝에추가한다\n",
    "            phone_list.append(phone)\n",
    "    # MonoPhoneHMM 클래스를 생성한다        \n",
    "    hmm = MonoPhoneHMM()\n",
    "    # HMM 프로토타입을 생성함\n",
    "    hmm.make_proto(phone_list, num_states, prob_loop, num_dims)\n",
    "    # HMM 프로토타입을 json 형식으로 저장\n",
    "    hmm.save_hmm(os.path.join(out_dir, \"hmmproto\"))"
   ]
  },
  {
   "cell_type": "code",
   "execution_count": null,
   "id": "c818e925",
   "metadata": {},
   "outputs": [],
   "source": []
  }
 ],
 "metadata": {
  "kernelspec": {
   "display_name": "Python 3 (ipykernel)",
   "language": "python",
   "name": "python3"
  },
  "language_info": {
   "codemirror_mode": {
    "name": "ipython",
    "version": 3
   },
   "file_extension": ".py",
   "mimetype": "text/x-python",
   "name": "python",
   "nbconvert_exporter": "python",
   "pygments_lexer": "ipython3",
   "version": "3.10.9"
  }
 },
 "nbformat": 4,
 "nbformat_minor": 5
}
